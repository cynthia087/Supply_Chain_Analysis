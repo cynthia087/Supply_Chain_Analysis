{
 "cells": [
  {
   "cell_type": "code",
   "execution_count": null,
   "metadata": {},
   "outputs": [
    {
     "name": "stdout",
     "output_type": "stream",
     "text": [
      "Independent Sourcing Costs:\n",
      "   Product  Order Cost  Holding Cost  Total Cost\n",
      "0      1.0       170.0        3750.0      3920.0\n",
      "1      2.0       175.0        1350.0      1525.0\n",
      "2      3.0       180.0         225.0       405.0\n",
      "3      4.0       200.0         112.5       312.5\n",
      "\n",
      "Same Frequency Sourcing Costs:\n",
      "   Product   Order Cost  Holding Cost   Total Cost\n",
      "0      1.0  8928.837434     71.397873  9000.235307\n",
      "1      2.0  2757.435090     85.677447  2843.112537\n",
      "2      3.0   945.406317     42.838724   988.245040\n",
      "3      4.0   525.225731     42.838724   568.064455\n"
     ]
    }
   ],
   "source": [
    "import pandas as pd\n",
    "import numpy as np\n",
    "\n",
    "data = {\n",
    "    'Product': [1, 2, 3, 4],\n",
    "    'Demand': [1000, 300, 100, 50],\n",
    "    'Common Ordering Cost': [150, 150, 150, 150],\n",
    "    'Specific Ordering Cost': [20, 25, 30, 50],\n",
    "    'Unit Cost': [50, 60, 30, 30],\n",
    "    'Holding Cost Rate': [0.15, 0.15, 0.15, 0.15]\n",
    "}\n",
    "\n",
    "df = pd.DataFrame(data)\n",
    "\n",
    "# Ordering cost formula\n",
    "def ordering_cost(demand, order_quantity, common_cost, specific_cost):\n",
    "    return (common_cost + specific_cost) * (demand / order_quantity)\n",
    "\n",
    "# Holding cost formula\n",
    "def holding_cost(unit_cost, holding_cost_rate, order_quantity):\n",
    "    return unit_cost * holding_cost_rate * (order_quantity / 2)\n",
    "\n",
    "# Calculation for different sourcing strategies\n",
    "def calculate_costs(df, order_quantity=None):\n",
    "    # For independent sourcing, calculate separately for each product\n",
    "    costs = []\n",
    "    for i, row in df.iterrows():\n",
    "        order_qty = order_quantity if order_quantity else row['Demand'] \n",
    "        order_cost = ordering_cost(row['Demand'], order_qty, row['Common Ordering Cost'], row['Specific Ordering Cost'])\n",
    "        hold_cost = holding_cost(row['Unit Cost'], row['Holding Cost Rate'], order_qty)\n",
    "        total_cost = order_cost + hold_cost\n",
    "        costs.append({'Product': row['Product'], 'Order Cost': order_cost, 'Holding Cost': hold_cost, 'Total Cost': total_cost})\n",
    "    \n",
    "    return pd.DataFrame(costs)\n",
    "\n",
    "# Calculate for independent sourcing (order quantity = demand)\n",
    "independent_costs = calculate_costs(df)\n",
    "\n",
    "# Calculate for same frequency (equal order quantity across all products)\n",
    "same_frequency_order_quantity = np.sqrt(df['Demand'].mean()) \n",
    "same_frequency_costs = calculate_costs(df, same_frequency_order_quantity)\n",
    "\n",
    "print(\"Independent Sourcing Costs:\")\n",
    "print(independent_costs)\n",
    "\n",
    "print(\"\\nSame Frequency Sourcing Costs:\")\n",
    "print(same_frequency_costs)\n"
   ]
  },
  {
   "cell_type": "code",
   "execution_count": null,
   "metadata": {},
   "outputs": [
    {
     "name": "stdout",
     "output_type": "stream",
     "text": [
      "EOQ-based Tailored Aggregation Strategy Costs:\n",
      "   Product         EOQ  Order Cost  Holding Cost   Total Cost\n",
      "0      1.0  212.916259  798.435971    798.435971  1596.871942\n",
      "1      2.0  108.012345  486.055552    486.055552   972.111105\n",
      "2      3.0   89.442719  201.246118    201.246118   402.492236\n",
      "3      4.0   66.666667  150.000000    150.000000   300.000000\n"
     ]
    }
   ],
   "source": [
    "import pandas as pd\n",
    "import numpy as np\n",
    "\n",
    "# Corrected data based on user input\n",
    "data = {\n",
    "    'Product': [1, 2, 3, 4],\n",
    "    'Demand': [1000, 300, 100, 50],\n",
    "    'Common Ordering Cost': [150, 150, 150, 150],\n",
    "    'Specific Ordering Cost': [20, 25, 30, 50],\n",
    "    'Unit Cost': [50, 60, 30, 30],\n",
    "    'Holding Cost Rate': [0.15, 0.15, 0.15, 0.15]\n",
    "}\n",
    "\n",
    "df = pd.DataFrame(data)\n",
    "\n",
    "# EOQ formula\n",
    "def eoq(demand, ordering_cost, holding_cost):\n",
    "    return np.sqrt((2 * demand * ordering_cost) / holding_cost)\n",
    "\n",
    "# Holding cost per unit per year (Unit Cost * Holding Cost Rate)\n",
    "def holding_cost_per_unit(unit_cost, holding_cost_rate):\n",
    "    return unit_cost * holding_cost_rate\n",
    "\n",
    "# Calculation for each product using EOQ\n",
    "def calculate_eoq_costs(df):\n",
    "    costs = []\n",
    "    for i, row in df.iterrows():\n",
    "        holding_cost = holding_cost_per_unit(row['Unit Cost'], row['Holding Cost Rate'])\n",
    "        total_ordering_cost = row['Common Ordering Cost'] + row['Specific Ordering Cost']\n",
    "        optimal_order_quantity = eoq(row['Demand'], total_ordering_cost, holding_cost)\n",
    "        \n",
    "        order_cost = total_ordering_cost * (row['Demand'] / optimal_order_quantity)\n",
    "        hold_cost = holding_cost * (optimal_order_quantity / 2)\n",
    "        \n",
    "        total_cost = order_cost + hold_cost\n",
    "        \n",
    "        costs.append({'Product': row['Product'], 'EOQ': optimal_order_quantity, 'Order Cost': order_cost, 'Holding Cost': hold_cost, 'Total Cost': total_cost})\n",
    "    \n",
    "    return pd.DataFrame(costs)\n",
    "\n",
    "eoq_costs = calculate_eoq_costs(df)\n",
    "\n",
    "\n",
    "print(\"EOQ-based Tailored Aggregation Strategy Costs:\")\n",
    "print(eoq_costs)\n"
   ]
  }
 ],
 "metadata": {
  "kernelspec": {
   "display_name": "base",
   "language": "python",
   "name": "python3"
  },
  "language_info": {
   "codemirror_mode": {
    "name": "ipython",
    "version": 3
   },
   "file_extension": ".py",
   "mimetype": "text/x-python",
   "name": "python",
   "nbconvert_exporter": "python",
   "pygments_lexer": "ipython3",
   "version": "3.12.4"
  }
 },
 "nbformat": 4,
 "nbformat_minor": 2
}
